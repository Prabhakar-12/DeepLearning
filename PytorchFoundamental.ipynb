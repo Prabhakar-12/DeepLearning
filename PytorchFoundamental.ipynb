{
 "cells": [
  {
   "cell_type": "code",
   "execution_count": 8,
   "id": "a928d353-1005-4dd9-a287-4f12cf193fd0",
   "metadata": {},
   "outputs": [
    {
     "name": "stdout",
     "output_type": "stream",
     "text": [
      "/usr/bin/python3.13\n",
      "1.7.2\n"
     ]
    }
   ],
   "source": [
    "import sys\n",
    "print(sys.executable)\n",
    "import sklearn\n",
    "print(sklearn.__version__)"
   ]
  },
  {
   "cell_type": "code",
   "execution_count": 1,
   "id": "initial_id",
   "metadata": {
    "ExecuteTime": {
     "end_time": "2025-09-15T05:18:07.186808Z",
     "start_time": "2025-09-15T05:18:05.000971Z"
    }
   },
   "outputs": [
    {
     "name": "stdout",
     "output_type": "stream",
     "text": [
      "2.7.1a0\n",
      "tensor([1, 2, 3, 4, 5])\n"
     ]
    }
   ],
   "source": [
    "import torch\n",
    "print(torch.__version__)\n",
    "Vector=torch.tensor([1,2,3,4,5])\n",
    "print(Vector)"
   ]
  },
  {
   "cell_type": "markdown",
   "id": "e538b60a783fd944",
   "metadata": {},
   "source": [
    "Scalar is a single number or Zero Dimensional Tensor"
   ]
  },
  {
   "cell_type": "code",
   "execution_count": 2,
   "id": "f6feab05881be827",
   "metadata": {
    "ExecuteTime": {
     "end_time": "2025-09-15T05:18:07.197973Z",
     "start_time": "2025-09-15T05:18:07.193760Z"
    }
   },
   "outputs": [
    {
     "name": "stdout",
     "output_type": "stream",
     "text": [
      "tensor(7)\n",
      "0\n",
      "7\n"
     ]
    }
   ],
   "source": [
    "# Scalar\n",
    "scalar = torch.tensor(7)\n",
    "print(scalar)\n",
    "#Scalar Dimensions\n",
    "print(scalar.ndim)\n",
    "#Retriving the Number from the Tensor Scalar\n",
    "print(scalar.item())"
   ]
  },
  {
   "cell_type": "markdown",
   "id": "365f9c5fb3d3d647",
   "metadata": {},
   "source": [
    "Vector is Single Dimensionals Array whcih has many Elements or Values"
   ]
  },
  {
   "cell_type": "code",
   "execution_count": 3,
   "id": "9fad2cfba3e8ff2a",
   "metadata": {
    "ExecuteTime": {
     "end_time": "2025-09-15T05:18:07.249753Z",
     "start_time": "2025-09-15T05:18:07.244871Z"
    }
   },
   "outputs": [
    {
     "name": "stdout",
     "output_type": "stream",
     "text": [
      "The Created Vector is  tensor([1, 2, 3, 4, 5])\n",
      "1\n",
      "torch.Size([5])\n"
     ]
    }
   ],
   "source": [
    "#Creating the Vectors\n",
    "Vector=torch.tensor([1,2,3,4,5])\n",
    "print(\"The Created Vector is \",Vector)\n",
    "#Dimensions of the Vector\n",
    "print(Vector.ndim)\n",
    "#Shape of the Vector=> This will Return the 5 cause the Vector inside 5 Elements Are there\n",
    "print(Vector.shape)"
   ]
  },
  {
   "cell_type": "code",
   "execution_count": 4,
   "id": "12371dad-ae67-41f0-9ad3-44fe7c6d3346",
   "metadata": {},
   "outputs": [
    {
     "name": "stdout",
     "output_type": "stream",
     "text": [
      "tensor([1., 2., 3., 4., 5.])\n",
      "1\n",
      "torch.float32\n"
     ]
    }
   ],
   "source": [
    "Vector=torch.tensor([1,2,3,4,5],dtype=torch.float32)\n",
    "print(Vector)\n",
    "print(Vector.ndim)\n",
    "print(Vector.dtype)\n",
    "# print(Vector.item())"
   ]
  },
  {
   "cell_type": "markdown",
   "id": "408d1557ad743c3c",
   "metadata": {},
   "source": [
    "Matrix:Rectangular arrangement of the Elements is Called Matrix"
   ]
  },
  {
   "cell_type": "code",
   "execution_count": 5,
   "id": "ecbbbd1f34b168ca",
   "metadata": {
    "ExecuteTime": {
     "end_time": "2025-09-15T05:18:07.309675Z",
     "start_time": "2025-09-15T05:18:07.299607Z"
    }
   },
   "outputs": [
    {
     "name": "stdout",
     "output_type": "stream",
     "text": [
      "tensor([[1, 2, 3],\n",
      "        [4, 5, 6],\n",
      "        [7, 8, 9]])\n",
      "<class 'torch.Tensor'>\n",
      "2\n",
      "torch.Size([3, 3])\n",
      "tensor([[ 30,  36,  42],\n",
      "        [ 66,  81,  96],\n",
      "        [102, 126, 150]])\n",
      "tensor([[ 30,  36,  42],\n",
      "        [ 66,  81,  96],\n",
      "        [102, 126, 150]])\n",
      "tensor([[ 30,  36,  42],\n",
      "        [ 66,  81,  96],\n",
      "        [102, 126, 150]])\n"
     ]
    }
   ],
   "source": [
    "#Creating the Matrix\n",
    "Matrix=torch.tensor([[1,2,3],\n",
    "                     [4,5,6],\n",
    "                     [7,8,9]])\n",
    "print(Matrix)\n",
    "#Type\n",
    "print(type(Matrix))\n",
    "print(Matrix.ndim)\n",
    "print(Matrix.shape)\n",
    "# print(Matrix.flatten())\n",
    "print(torch.linalg.matrix_power(Matrix,2))\n",
    "print(torch.linalg.matrix_power(Matrix,2))\n",
    "print(torch.linalg.matrix_power(Matrix,2))"
   ]
  },
  {
   "cell_type": "markdown",
   "id": "81bf25e1c34fd3ea",
   "metadata": {},
   "source": [
    "Tensor:Tensor is MultiDimensional Array "
   ]
  },
  {
   "cell_type": "code",
   "execution_count": 6,
   "id": "2dd2ef02881d784f",
   "metadata": {
    "ExecuteTime": {
     "end_time": "2025-09-15T05:18:07.356509Z",
     "start_time": "2025-09-15T05:18:07.352972Z"
    }
   },
   "outputs": [
    {
     "name": "stdout",
     "output_type": "stream",
     "text": [
      "<class 'torch.Tensor'>\n",
      "3\n",
      "torch.Size([1, 2, 3])\n"
     ]
    }
   ],
   "source": [
    "Tensor=torch.tensor([[[1,2,3],\n",
    "                      [4,5,6]]])\n",
    "print(type(Tensor))\n",
    "print(Tensor.ndim)\n",
    "print(Tensor.shape)"
   ]
  },
  {
   "cell_type": "markdown",
   "id": "39f4076e3f52ed5a",
   "metadata": {},
   "source": [
    "Creating the Random Tensor"
   ]
  },
  {
   "cell_type": "code",
   "execution_count": null,
   "id": "7c4efded32d334a6",
   "metadata": {
    "ExecuteTime": {
     "end_time": "2025-09-15T05:18:07.427770Z",
     "start_time": "2025-09-15T05:18:07.403574Z"
    }
   },
   "outputs": [],
   "source": [
    "random_tensor=torch.rand(size=(3,4),dtype=torch.float64)\n",
    "print(random_tensor)\n",
    "print(random_tensor.dtype)\n",
    "# The flexibility of torch.rand() is that we can adjust the size to be whatever we want.\n",
    "# For example, say you wanted a random tensor in the common image shape of [224, 224, 3] ([height, width, color_channels]).\n",
    "Ranodm_image_tensor=torch.rand(size=(224,224,3))\n",
    "print(Ranodm_image_tensor.shape,Ranodm_image_tensor.dtype,Ranodm_image_tensor.ndim)"
   ]
  },
  {
   "cell_type": "markdown",
   "id": "e940515c6ed6fbaf",
   "metadata": {},
   "source": [
    "Zeros And Ones"
   ]
  },
  {
   "cell_type": "code",
   "execution_count": null,
   "id": "ab78ca491e19cd2f",
   "metadata": {
    "ExecuteTime": {
     "end_time": "2025-09-15T05:18:07.458430Z",
     "start_time": "2025-09-15T05:18:07.453485Z"
    }
   },
   "outputs": [],
   "source": [
    "#Creating the ones using torch.ones\n",
    "Ones=torch.ones(size=(4,3))\n",
    "print(Ones,Ones.dtype)"
   ]
  },
  {
   "cell_type": "markdown",
   "id": "e3d60c4dfa1a21c0",
   "metadata": {},
   "source": [
    "Creating the Range And Tensor"
   ]
  },
  {
   "cell_type": "code",
   "execution_count": null,
   "id": "e0cc8580a44ea182",
   "metadata": {
    "ExecuteTime": {
     "end_time": "2025-09-15T05:18:07.509493Z",
     "start_time": "2025-09-15T05:18:07.503309Z"
    }
   },
   "outputs": [],
   "source": [
    "# torch.arange(start, end, step)\n",
    "# start = start of range (e.g. 0)\n",
    "# end = end of range (e.g. 10)\n",
    "# step = how many steps in between each value (e.g. 1)\n",
    "Values=torch.arange(10,100,10)\n",
    "print(Values)\n",
    "print(Values.dtype)\n",
    "print(Values.shape)\n",
    "#Creating the Same Shape And Same Values\n",
    "#NOTE:The input should be Tensors only\n",
    "Same_Ones=torch.ones_like(Values)\n",
    "print(Same_Ones)\n",
    "Same_Zeros=torch.zeros_like(Same_Ones)\n",
    "print(Same_Zeros)"
   ]
  },
  {
   "cell_type": "code",
   "execution_count": null,
   "id": "3e93ccffca445474",
   "metadata": {
    "ExecuteTime": {
     "end_time": "2025-09-15T05:18:07.558482Z",
     "start_time": "2025-09-15T05:18:07.553863Z"
    }
   },
   "outputs": [],
   "source": [
    "# Default datatype for tensors is float32\n",
    "float_32_tensor = torch.tensor([3.0, 6.0, 9.0],\n",
    "                               dtype=torch.float32, # defaults to None, which is torch.float32 or whatever datatype is passed\n",
    "                               device=None, # defaults to None, which uses the default tensor type\n",
    "                               requires_grad=False) # if True, operations performed on the tensor are recorded\n",
    "\n",
    "print(float_32_tensor.shape)\n",
    "print(float_32_tensor.dtype)\n",
    "print(float_32_tensor.device)"
   ]
  },
  {
   "cell_type": "code",
   "execution_count": 14,
   "id": "94e973765ff0349a",
   "metadata": {
    "ExecuteTime": {
     "end_time": "2025-09-15T05:18:07.608595Z",
     "start_time": "2025-09-15T05:18:07.605344Z"
    }
   },
   "outputs": [
    {
     "name": "stdout",
     "output_type": "stream",
     "text": [
      "torch.float16\n"
     ]
    }
   ],
   "source": [
    "float_16_tensor = torch.tensor([3.0, 6.0, 9.0],\n",
    "                               dtype=torch.float16) # torch.half would also work\n",
    "print(float_16_tensor.dtype)"
   ]
  },
  {
   "cell_type": "markdown",
   "id": "d90bdf17c405a3d9",
   "metadata": {},
   "source": [
    "Getting Information From Tensor"
   ]
  },
  {
   "cell_type": "code",
   "execution_count": null,
   "id": "9fcb337567abb2fd",
   "metadata": {
    "ExecuteTime": {
     "end_time": "2025-09-15T05:18:07.661351Z",
     "start_time": "2025-09-15T05:18:07.655530Z"
    }
   },
   "outputs": [],
   "source": [
    "# Create a tensor\n",
    "some_tensor = torch.rand(3, 4)\n",
    "# Find out details about it\n",
    "print(some_tensor)\n",
    "print(f\"Shape of tensor: {some_tensor.shape}\")\n",
    "print(f\"Datatype of tensor: {some_tensor.dtype}\")\n",
    "print(f\"Device tensor is stored on: {some_tensor.device}\") # will default to CPU"
   ]
  },
  {
   "cell_type": "markdown",
   "id": "7bf4afebf6cb12d4",
   "metadata": {},
   "source": [
    "Arthematic Operatioons\n"
   ]
  },
  {
   "cell_type": "code",
   "execution_count": null,
   "id": "bb2beb8d2953d40e",
   "metadata": {
    "ExecuteTime": {
     "end_time": "2025-09-15T05:18:07.715505Z",
     "start_time": "2025-09-15T05:18:07.706544Z"
    }
   },
   "outputs": [],
   "source": [
    "Tensor=torch.tensor([11,21,10,4])\n",
    "print(Tensor+10)\n",
    "print(Tensor-10)\n",
    "print(Tensor*2)\n",
    "print(Tensor/2)\n",
    "print(Tensor%2)\n",
    "#It will Give The Quotient Value or The result will round of the to down integer\n",
    "print(Tensor//4)"
   ]
  },
  {
   "cell_type": "markdown",
   "id": "4c0efd9349112b4e",
   "metadata": {},
   "source": [
    "Matrix Multiplication"
   ]
  },
  {
   "cell_type": "code",
   "execution_count": null,
   "id": "fe4ee15b141e3c8c",
   "metadata": {
    "ExecuteTime": {
     "end_time": "2025-09-15T05:18:07.773660Z",
     "start_time": "2025-09-15T05:18:07.761423Z"
    }
   },
   "outputs": [],
   "source": [
    "%%time\n",
    "Matrix1=torch.tensor([[1,2,3],\n",
    "                     [2,3,4],\n",
    "                      [2,3,4]])\n",
    "Matrix2=torch.tensor([[3,5,6],\n",
    "                      [-3,5,6],\n",
    "                      [5,6,7]])\n",
    "#Multiplication with Element wise\n",
    "print(Matrix1*Matrix2)\n",
    "#Multiplication with Rows and Columns wise\n",
    "print(Matrix1.matmul(Matrix2))\n",
    "print(Matrix1@Matrix2)\n",
    "print(torch.mm(Matrix1,Matrix2))"
   ]
  },
  {
   "cell_type": "code",
   "execution_count": null,
   "id": "3351c1766a4034da",
   "metadata": {
    "ExecuteTime": {
     "end_time": "2025-09-15T05:18:07.849480Z",
     "start_time": "2025-09-15T05:18:07.831277Z"
    }
   },
   "outputs": [],
   "source": [
    "%%time\n",
    "# Matrix multiplication by hand\n",
    "# (avoid doing operations with for loops at all cost, they are computationally expensive)\n",
    "value = 0\n",
    "for i in range(len(Matrix1)):\n",
    "  value += Matrix1[i] * Matrix1[i]\n",
    "value"
   ]
  },
  {
   "cell_type": "code",
   "execution_count": null,
   "id": "a2a7573169a9fd18",
   "metadata": {
    "ExecuteTime": {
     "end_time": "2025-09-15T05:18:07.898021Z",
     "start_time": "2025-09-15T05:18:07.892183Z"
    }
   },
   "outputs": [],
   "source": [
    "#Tranpose of the Matrix\n",
    "Matrix=torch.tensor([[1,2,3],\n",
    "                     [4,5,6],\n",
    "                     [7,8,9]])\n",
    "#Converte the Rows to columns and Columns to Rows\n",
    "print(Matrix.T)"
   ]
  },
  {
   "cell_type": "code",
   "execution_count": null,
   "id": "55aca487316c9707",
   "metadata": {
    "ExecuteTime": {
     "end_time": "2025-09-15T05:18:07.967870Z",
     "start_time": "2025-09-15T05:18:07.948953Z"
    }
   },
   "outputs": [],
   "source": [
    "# Since the linear layer starts with a random weights matrix, let's make it reproducible (more on this later)\n",
    "tensor_A=torch.tensor([[1,2],\n",
    "                       [3,4],\n",
    "                       [5,6]],dtype=torch.float32)\n",
    "torch.manual_seed(42)\n",
    "# This uses matrix multiplication\n",
    "linear = torch.nn.Linear(in_features=2, # in_features = matches inner dimension of input\n",
    "                         out_features=6) # out_features = describes outer value\n",
    "x = tensor_A\n",
    "output = linear(x)\n",
    "print(f\"Input shape: {x.shape}\\n\")\n",
    "print(f\"Output:\\n{output}\\n\\nOutput shape: {output.shape}\")"
   ]
  },
  {
   "cell_type": "code",
   "execution_count": null,
   "id": "d14013cf2ea53936",
   "metadata": {
    "ExecuteTime": {
     "end_time": "2025-09-15T05:18:08.014662Z",
     "start_time": "2025-09-15T05:18:08.007450Z"
    }
   },
   "outputs": [],
   "source": [
    "Zeros=torch.zeros(size=(3,2))\n",
    "print(Zeros,Zeros.dtype)"
   ]
  },
  {
   "cell_type": "code",
   "execution_count": 23,
   "id": "e5bfc88891d0b94d",
   "metadata": {
    "ExecuteTime": {
     "end_time": "2025-09-15T05:18:08.090243Z",
     "start_time": "2025-09-15T05:18:08.081103Z"
    }
   },
   "outputs": [
    {
     "name": "stdout",
     "output_type": "stream",
     "text": [
      "The Matrix After Reshaping it tensor([[0, 1, 2],\n",
      "        [3, 4, 5],\n",
      "        [6, 7, 8]])\n",
      "The Tranpose of the Matrix is  tensor([[0, 3, 6],\n",
      "        [1, 4, 7],\n",
      "        [2, 5, 8]])\n",
      "tensor([[ True, False, False],\n",
      "        [False,  True, False],\n",
      "        [False, False,  True]])\n"
     ]
    },
    {
     "data": {
      "text/plain": [
       "tensor([[[ 0,  1,  2],\n",
       "         [ 3,  4,  5],\n",
       "         [ 6,  7,  8],\n",
       "         [ 9, 10, 11]],\n",
       "\n",
       "        [[12, 13, 14],\n",
       "         [15, 16, 17],\n",
       "         [18, 19, 20],\n",
       "         [21, 22, 23]],\n",
       "\n",
       "        [[24, 25, 26],\n",
       "         [27, 28, 29],\n",
       "         [30, 31, 32],\n",
       "         [33, 34, 35]],\n",
       "\n",
       "        [[36, 37, 38],\n",
       "         [39, 40, 41],\n",
       "         [42, 43, 44],\n",
       "         [45, 46, 47]]])"
      ]
     },
     "execution_count": 23,
     "metadata": {},
     "output_type": "execute_result"
    }
   ],
   "source": [
    "A=torch.arange(9).reshape(3,3)\n",
    "print(\"The Matrix After Reshaping it\",A)\n",
    "#Tranpose of the Matrix..:Rows will change to columns and columns will change to Rows\n",
    "print(\"The Tranpose of the Matrix is \",A.T)\n",
    "#chek=cking the Whether the Given matrix and Trapose of the MAtrix is Same or Not\n",
    "print(A==A.T)\n",
    "#This is Will Truee  if the Values are same even After tranposing the Matrix\n",
    "torch.arange(48).reshape(4,4,3)"
   ]
  },
  {
   "cell_type": "code",
   "execution_count": 26,
   "id": "95474b71-ddb1-4a45-abac-2077e86313bc",
   "metadata": {},
   "outputs": [
    {
     "ename": "ModuleNotFoundError",
     "evalue": "No module named 'sklearn'",
     "output_type": "error",
     "traceback": [
      "\u001b[0;31m---------------------------------------------------------------------------\u001b[0m",
      "\u001b[0;31mModuleNotFoundError\u001b[0m                       Traceback (most recent call last)",
      "Cell \u001b[0;32mIn[26], line 1\u001b[0m\n\u001b[0;32m----> 1\u001b[0m \u001b[38;5;28;01mimport\u001b[39;00m\u001b[38;5;250m \u001b[39m\u001b[38;5;21;01msklearn\u001b[39;00m\n\u001b[1;32m      2\u001b[0m \u001b[38;5;28mprint\u001b[39m(sklearn\u001b[38;5;241m.\u001b[39m__version__)\n",
      "\u001b[0;31mModuleNotFoundError\u001b[0m: No module named 'sklearn'"
     ]
    }
   ],
   "source": [
    "import sklearn\n",
    "print(sklearn.__version__)"
   ]
  },
  {
   "cell_type": "code",
   "execution_count": 25,
   "id": "c711d609-ef57-4dd9-96a1-80088ca36fc7",
   "metadata": {},
   "outputs": [
    {
     "name": "stdout",
     "output_type": "stream",
     "text": [
      "Requirement already satisfied: scikit-learn in /home/prabhakar/miniconda3/lib/python3.13/site-packages (1.7.2)\n",
      "Requirement already satisfied: numpy>=1.22.0 in /home/prabhakar/miniconda3/lib/python3.13/site-packages (from scikit-learn) (2.3.3)\n",
      "Requirement already satisfied: scipy>=1.8.0 in /home/prabhakar/miniconda3/lib/python3.13/site-packages (from scikit-learn) (1.16.2)\n",
      "Requirement already satisfied: joblib>=1.2.0 in /home/prabhakar/miniconda3/lib/python3.13/site-packages (from scikit-learn) (1.5.2)\n",
      "Requirement already satisfied: threadpoolctl>=3.1.0 in /home/prabhakar/miniconda3/lib/python3.13/site-packages (from scikit-learn) (3.6.0)\n"
     ]
    }
   ],
   "source": [
    "!pip install scikit-learn\n"
   ]
  },
  {
   "cell_type": "markdown",
   "id": "70d63682-66ed-43b6-88f4-985c727b8d10",
   "metadata": {},
   "source": [
    "Indexing"
   ]
  },
  {
   "cell_type": "code",
   "execution_count": 8,
   "id": "af1b5b4a-d399-4bf8-8cc9-c9fbd9193da1",
   "metadata": {},
   "outputs": [
    {
     "name": "stdout",
     "output_type": "stream",
     "text": [
      "tensor([[ 1,  2,  3,  4],\n",
      "        [ 5,  6,  7,  8],\n",
      "        [ 9, 10, 11, 12]])\n",
      "tensor([5, 6, 7, 8])\n",
      "tensor([ 9, 10, 11, 12])\n",
      "tensor([[ 1,  3],\n",
      "        [ 5,  7],\n",
      "        [ 9, 11]])\n",
      "tensor([ 4,  8, 12])\n",
      "tensor([[ 1,  2,  3],\n",
      "        [ 5,  6,  7],\n",
      "        [ 9, 10, 11]])\n"
     ]
    }
   ],
   "source": [
    "A=torch.tensor([[1,2,3,4],\n",
    "                [5,6,7,8],\n",
    "                [9,10,11,12]])\n",
    "print(A)\n",
    "print(A[1])\n",
    "print(A[-1])\n",
    "print(A[:,0:3:2])\n",
    "print(A[:,-1])\n",
    "print(A[:,:-1])"
   ]
  },
  {
   "cell_type": "markdown",
   "id": "800d748f-1280-479e-a7d4-f26267c7947f",
   "metadata": {},
   "source": [
    "Modifing the Elements"
   ]
  },
  {
   "cell_type": "code",
   "execution_count": 9,
   "id": "3664c328-3bed-4616-a51a-61f9a3249575",
   "metadata": {},
   "outputs": [
    {
     "data": {
      "text/plain": [
       "tensor([[10,  2,  3,  4],\n",
       "        [ 5,  6,  7, 20],\n",
       "        [ 9, 10, 11, 12]])"
      ]
     },
     "execution_count": 9,
     "metadata": {},
     "output_type": "execute_result"
    }
   ],
   "source": [
    "A[0,0]=10\n",
    "A\n",
    "A[1,3]=20\n",
    "A"
   ]
  },
  {
   "cell_type": "code",
   "execution_count": 10,
   "id": "2f6a4369-9d99-4048-a0d9-091272240687",
   "metadata": {},
   "outputs": [
    {
     "data": {
      "text/plain": [
       "tensor([[2.2026e+04, 7.3891e+00, 2.0086e+01, 5.4598e+01],\n",
       "        [1.4841e+02, 4.0343e+02, 1.0966e+03, 4.8517e+08],\n",
       "        [8.1031e+03, 2.2026e+04, 5.9874e+04, 1.6275e+05]])"
      ]
     },
     "execution_count": 10,
     "metadata": {},
     "output_type": "execute_result"
    }
   ],
   "source": [
    "#Exponential e power A\n",
    "torch.exp(A)"
   ]
  },
  {
   "cell_type": "markdown",
   "id": "79909fa4-687a-4909-8e96-a44facbeffcd",
   "metadata": {},
   "source": [
    "Adding Two Tensors"
   ]
  },
  {
   "cell_type": "code",
   "execution_count": null,
   "id": "a226ba36-469a-48d0-88a0-1f38eec65b6a",
   "metadata": {},
   "outputs": [],
   "source": [
    "# X=torch.arange(12,dtype=torch.float32).reshape((3,4))\n",
    "# print(X)\n",
    "# Y=torch.tensor([[2,3,4,5],\n",
    "#                 [6,7,8,9],\n",
    "#                 [1,2,3,4]],dtype=torch.float32)\n",
    "# print(Y)\n",
    "# print(torch.cat(X,Y),dim=0)\n",
    "X=torch.randn(2,3)\n",
    "print(X)\n",
    "Y=torch.randn(2,3)\n",
    "print(Y)\n",
    "#Concadenating the two Tensors\n",
    "torch.cat((X,Y),0)"
   ]
  },
  {
   "cell_type": "code",
   "execution_count": null,
   "id": "a759d4cd-8d41-4382-9814-21c787acc410",
   "metadata": {},
   "outputs": [],
   "source": [
    "A=torch.randn(3,3)\n",
    "print(A)\n",
    "B=torch.randn(3,3)\n",
    "print(torch.cat((A,B),1))"
   ]
  },
  {
   "cell_type": "code",
   "execution_count": null,
   "id": "353520a9-19a5-4754-946b-ae67ce4757ed",
   "metadata": {},
   "outputs": [],
   "source": [
    "import torch\n",
    "print(torch.__version__)\n",
    "A=torch.tensor([[1,2,3,4],\n",
    "                [5,6,7,8],\n",
    "                [9,10,11,12]],dtype=torch.float32)\n",
    "print(A)\n",
    "print(A.shape)\n",
    "print(A.dtype)\n",
    "print(type(A))\n"
   ]
  },
  {
   "cell_type": "code",
   "execution_count": null,
   "id": "d433a51b-1433-48a6-97ef-9a9b8eaf38f7",
   "metadata": {},
   "outputs": [],
   "source": [
    "# Define tensors with requires_grad=True to track computation history\n",
    "import torch\n",
    "x = torch.tensor(2.0, requires_grad=True)\n",
    "y = torch.tensor(3.0, requires_grad=True)\n",
    "\n",
    "# Perform a computation\n",
    "z = x**2 + y**3\n",
    "print(\"Output tensor z:\", z)\n",
    "\n",
    "# Compute gradients\n",
    "z.backward()\n",
    "print(\"Gradient of x:\", x.grad)\n",
    "print(\"Gradient of y:\", y.grad)"
   ]
  },
  {
   "cell_type": "code",
   "execution_count": 11,
   "id": "2b25aaf0-a2ae-4563-862e-e6f237542cbb",
   "metadata": {},
   "outputs": [
    {
     "ename": "ModuleNotFoundError",
     "evalue": "No module named 'sklearn'",
     "output_type": "error",
     "traceback": [
      "\u001b[0;31m---------------------------------------------------------------------------\u001b[0m",
      "\u001b[0;31mModuleNotFoundError\u001b[0m                       Traceback (most recent call last)",
      "Cell \u001b[0;32mIn[11], line 1\u001b[0m\n\u001b[0;32m----> 1\u001b[0m \u001b[38;5;28;01mimport\u001b[39;00m\u001b[38;5;250m \u001b[39m\u001b[38;5;21;01msklearn\u001b[39;00m\n\u001b[1;32m      2\u001b[0m \u001b[38;5;28mprint\u001b[39m(sklearn\u001b[38;5;241m.\u001b[39m__version__)\n",
      "\u001b[0;31mModuleNotFoundError\u001b[0m: No module named 'sklearn'"
     ]
    }
   ],
   "source": [
    "import sklearn\n",
    "print(sklearn.__version__)"
   ]
  }
 ],
 "metadata": {
  "kernelspec": {
   "display_name": "Python 3.13 (ipykernel)",
   "language": "python",
   "name": "python3.13"
  },
  "language_info": {
   "codemirror_mode": {
    "name": "ipython",
    "version": 3
   },
   "file_extension": ".py",
   "mimetype": "text/x-python",
   "name": "python",
   "nbconvert_exporter": "python",
   "pygments_lexer": "ipython3",
   "version": "3.13.7"
  }
 },
 "nbformat": 4,
 "nbformat_minor": 5
}
