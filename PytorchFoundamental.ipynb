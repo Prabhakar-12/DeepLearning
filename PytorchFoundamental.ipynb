{
 "cells": [
  {
   "cell_type": "code",
   "execution_count": 15,
   "id": "a928d353-1005-4dd9-a287-4f12cf193fd0",
   "metadata": {},
   "outputs": [
    {
     "name": "stdout",
     "output_type": "stream",
     "text": [
      "/usr/bin/python3.13\n"
     ]
    }
   ],
   "source": [
    "import sys\n",
    "print(sys.executable)\n"
   ]
  },
  {
   "cell_type": "code",
   "execution_count": 34,
   "id": "initial_id",
   "metadata": {
    "ExecuteTime": {
     "end_time": "2025-09-15T05:18:07.186808Z",
     "start_time": "2025-09-15T05:18:05.000971Z"
    }
   },
   "outputs": [
    {
     "name": "stdout",
     "output_type": "stream",
     "text": [
      "2.7.1a0\n",
      "tensor([1, 2, 3, 4, 5])\n"
     ]
    }
   ],
   "source": [
    "import torch\n",
    "print(torch.__version__)\n",
    "Vector=torch.tensor([1,2,3,4,5])\n",
    "print(Vector)\n"
   ]
  },
  {
   "cell_type": "markdown",
   "id": "e538b60a783fd944",
   "metadata": {},
   "source": [
    "Scalar is a single number or Zero Dimensional Tensor"
   ]
  },
  {
   "cell_type": "code",
   "execution_count": 37,
   "id": "f6feab05881be827",
   "metadata": {
    "ExecuteTime": {
     "end_time": "2025-09-15T05:18:07.197973Z",
     "start_time": "2025-09-15T05:18:07.193760Z"
    }
   },
   "outputs": [
    {
     "name": "stdout",
     "output_type": "stream",
     "text": [
      "tensor(7)\n",
      "0\n",
      "7\n"
     ]
    }
   ],
   "source": [
    "# Scalar\n",
    "scalar = torch.tensor(7)\n",
    "print(scalar)\n",
    "#Scalar Dimensions\n",
    "print(scalar.ndim)\n",
    "#Retriving the Number from the Tensor Scalar\n",
    "print(scalar.item())"
   ]
  },
  {
   "cell_type": "markdown",
   "id": "365f9c5fb3d3d647",
   "metadata": {},
   "source": [
    "Vector is Single Dimensionals Array whcih has many Elements or Values"
   ]
  },
  {
   "cell_type": "code",
   "execution_count": 38,
   "id": "9fad2cfba3e8ff2a",
   "metadata": {
    "ExecuteTime": {
     "end_time": "2025-09-15T05:18:07.249753Z",
     "start_time": "2025-09-15T05:18:07.244871Z"
    }
   },
   "outputs": [
    {
     "name": "stdout",
     "output_type": "stream",
     "text": [
      "The Created Vector is  tensor([1, 2, 3, 4, 5])\n",
      "1\n",
      "torch.Size([5])\n"
     ]
    }
   ],
   "source": [
    "#Creating the Vectors\n",
    "Vector=torch.tensor([1,2,3,4,5])\n",
    "print(\"The Created Vector is \",Vector)\n",
    "#Dimensions of the Vector\n",
    "print(Vector.ndim)\n",
    "#Shape of the Vector=> This will Return the 5 cause the Vector inside 5 Elements Are there\n",
    "print(Vector.shape)"
   ]
  },
  {
   "cell_type": "markdown",
   "id": "408d1557ad743c3c",
   "metadata": {},
   "source": [
    "Matrix:Rectangular arrangement of the Elements is Called Matrix"
   ]
  },
  {
   "cell_type": "code",
   "execution_count": 20,
   "id": "ecbbbd1f34b168ca",
   "metadata": {
    "ExecuteTime": {
     "end_time": "2025-09-15T05:18:07.309675Z",
     "start_time": "2025-09-15T05:18:07.299607Z"
    }
   },
   "outputs": [
    {
     "name": "stdout",
     "output_type": "stream",
     "text": [
      "tensor([[1, 2, 3],\n",
      "        [4, 5, 6],\n",
      "        [7, 8, 9]])\n",
      "<class 'torch.Tensor'>\n",
      "2\n",
      "torch.Size([3, 3])\n",
      "tensor([[ 30,  36,  42],\n",
      "        [ 66,  81,  96],\n",
      "        [102, 126, 150]])\n",
      "tensor([[ 30,  36,  42],\n",
      "        [ 66,  81,  96],\n",
      "        [102, 126, 150]])\n",
      "tensor([[ 30,  36,  42],\n",
      "        [ 66,  81,  96],\n",
      "        [102, 126, 150]])\n"
     ]
    }
   ],
   "source": [
    "#Creating the Matrix\n",
    "Matrix=torch.tensor([[1,2,3],\n",
    "                     [4,5,6],\n",
    "                     [7,8,9]])\n",
    "print(Matrix)\n",
    "#Type\n",
    "print(type(Matrix))\n",
    "print(Matrix.ndim)\n",
    "print(Matrix.shape)\n",
    "# print(Matrix.flatten())\n",
    "print(torch.linalg.matrix_power(Matrix,2))\n",
    "print(torch.linalg.matrix_power(Matrix,2))\n",
    "print(torch.linalg.matrix_power(Matrix,2))"
   ]
  },
  {
   "cell_type": "markdown",
   "id": "81bf25e1c34fd3ea",
   "metadata": {},
   "source": [
    "Tensor:Tensor is MultiDimensional Array "
   ]
  },
  {
   "cell_type": "code",
   "execution_count": 39,
   "id": "2dd2ef02881d784f",
   "metadata": {
    "ExecuteTime": {
     "end_time": "2025-09-15T05:18:07.356509Z",
     "start_time": "2025-09-15T05:18:07.352972Z"
    }
   },
   "outputs": [
    {
     "name": "stdout",
     "output_type": "stream",
     "text": [
      "<class 'torch.Tensor'>\n",
      "3\n",
      "torch.Size([1, 2, 3])\n"
     ]
    }
   ],
   "source": [
    "Tensor=torch.tensor([[[1,2,3],\n",
    "                      [4,5,6]]])\n",
    "print(type(Tensor))\n",
    "print(Tensor.ndim)\n",
    "print(Tensor.shape)"
   ]
  },
  {
   "cell_type": "markdown",
   "id": "39f4076e3f52ed5a",
   "metadata": {},
   "source": [
    "Creating the Random Tensor"
   ]
  },
  {
   "cell_type": "code",
   "execution_count": 40,
   "id": "7c4efded32d334a6",
   "metadata": {
    "ExecuteTime": {
     "end_time": "2025-09-15T05:18:07.427770Z",
     "start_time": "2025-09-15T05:18:07.403574Z"
    }
   },
   "outputs": [
    {
     "name": "stdout",
     "output_type": "stream",
     "text": [
      "tensor([[0.1326, 0.1571, 0.3754, 0.8425],\n",
      "        [0.8705, 0.3775, 0.6124, 0.0881],\n",
      "        [0.7012, 0.6234, 0.4373, 0.0747]], dtype=torch.float64)\n",
      "torch.float64\n",
      "torch.Size([224, 224, 3]) torch.float32 3\n"
     ]
    }
   ],
   "source": [
    "random_tensor=torch.rand(size=(3,4),dtype=torch.float64)\n",
    "print(random_tensor)\n",
    "print(random_tensor.dtype)\n",
    "# The flexibility of torch.rand() is that we can adjust the size to be whatever we want.\n",
    "# For example, say you wanted a random tensor in the common image shape of [224, 224, 3] ([height, width, color_channels]).\n",
    "Ranodm_image_tensor=torch.rand(size=(224,224,3))\n",
    "print(Ranodm_image_tensor.shape,Ranodm_image_tensor.dtype,Ranodm_image_tensor.ndim)"
   ]
  },
  {
   "cell_type": "markdown",
   "id": "e940515c6ed6fbaf",
   "metadata": {},
   "source": [
    "Zeros And Ones"
   ]
  },
  {
   "cell_type": "code",
   "execution_count": 23,
   "id": "ab78ca491e19cd2f",
   "metadata": {
    "ExecuteTime": {
     "end_time": "2025-09-15T05:18:07.458430Z",
     "start_time": "2025-09-15T05:18:07.453485Z"
    }
   },
   "outputs": [
    {
     "name": "stdout",
     "output_type": "stream",
     "text": [
      "tensor([[1., 1., 1.],\n",
      "        [1., 1., 1.],\n",
      "        [1., 1., 1.],\n",
      "        [1., 1., 1.]]) torch.float32\n"
     ]
    }
   ],
   "source": [
    "#Creating the ones using torch.ones\n",
    "Ones=torch.ones(size=(4,3))\n",
    "print(Ones,Ones.dtype)"
   ]
  },
  {
   "cell_type": "markdown",
   "id": "e3d60c4dfa1a21c0",
   "metadata": {},
   "source": [
    "Creating the Range And Tensor"
   ]
  },
  {
   "cell_type": "code",
   "execution_count": 24,
   "id": "e0cc8580a44ea182",
   "metadata": {
    "ExecuteTime": {
     "end_time": "2025-09-15T05:18:07.509493Z",
     "start_time": "2025-09-15T05:18:07.503309Z"
    }
   },
   "outputs": [
    {
     "name": "stdout",
     "output_type": "stream",
     "text": [
      "tensor([10, 20, 30, 40, 50, 60, 70, 80, 90])\n",
      "torch.int64\n",
      "torch.Size([9])\n",
      "tensor([1, 1, 1, 1, 1, 1, 1, 1, 1])\n",
      "tensor([0, 0, 0, 0, 0, 0, 0, 0, 0])\n"
     ]
    }
   ],
   "source": [
    "# torch.arange(start, end, step)\n",
    "# start = start of range (e.g. 0)\n",
    "# end = end of range (e.g. 10)\n",
    "# step = how many steps in between each value (e.g. 1)\n",
    "Values=torch.arange(10,100,10)\n",
    "print(Values)\n",
    "print(Values.dtype)\n",
    "print(Values.shape)\n",
    "#Creating the Same Shape And Same Values\n",
    "#NOTE:The input should be Tensors only\n",
    "Same_Ones=torch.ones_like(Values)\n",
    "print(Same_Ones)\n",
    "Same_Zeros=torch.zeros_like(Same_Ones)\n",
    "print(Same_Zeros)"
   ]
  },
  {
   "cell_type": "code",
   "execution_count": 25,
   "id": "3e93ccffca445474",
   "metadata": {
    "ExecuteTime": {
     "end_time": "2025-09-15T05:18:07.558482Z",
     "start_time": "2025-09-15T05:18:07.553863Z"
    }
   },
   "outputs": [
    {
     "name": "stdout",
     "output_type": "stream",
     "text": [
      "torch.Size([3])\n",
      "torch.float32\n",
      "cpu\n"
     ]
    }
   ],
   "source": [
    "# Default datatype for tensors is float32\n",
    "float_32_tensor = torch.tensor([3.0, 6.0, 9.0],\n",
    "                               dtype=torch.float32, # defaults to None, which is torch.float32 or whatever datatype is passed\n",
    "                               device=None, # defaults to None, which uses the default tensor type\n",
    "                               requires_grad=False) # if True, operations performed on the tensor are recorded\n",
    "\n",
    "print(float_32_tensor.shape)\n",
    "print(float_32_tensor.dtype)\n",
    "print(float_32_tensor.device)"
   ]
  },
  {
   "cell_type": "code",
   "execution_count": 26,
   "id": "94e973765ff0349a",
   "metadata": {
    "ExecuteTime": {
     "end_time": "2025-09-15T05:18:07.608595Z",
     "start_time": "2025-09-15T05:18:07.605344Z"
    }
   },
   "outputs": [
    {
     "name": "stdout",
     "output_type": "stream",
     "text": [
      "torch.float16\n"
     ]
    }
   ],
   "source": [
    "float_16_tensor = torch.tensor([3.0, 6.0, 9.0],\n",
    "                               dtype=torch.float16) # torch.half would also work\n",
    "print(float_16_tensor.dtype)"
   ]
  },
  {
   "cell_type": "markdown",
   "id": "d90bdf17c405a3d9",
   "metadata": {},
   "source": [
    "Getting Information From Tensor"
   ]
  },
  {
   "cell_type": "code",
   "execution_count": 27,
   "id": "9fcb337567abb2fd",
   "metadata": {
    "ExecuteTime": {
     "end_time": "2025-09-15T05:18:07.661351Z",
     "start_time": "2025-09-15T05:18:07.655530Z"
    }
   },
   "outputs": [
    {
     "name": "stdout",
     "output_type": "stream",
     "text": [
      "tensor([[0.2973, 0.8817, 0.8916, 0.3534],\n",
      "        [0.9138, 0.2043, 0.5692, 0.5541],\n",
      "        [0.8949, 0.5186, 0.0386, 0.2958]])\n",
      "Shape of tensor: torch.Size([3, 4])\n",
      "Datatype of tensor: torch.float32\n",
      "Device tensor is stored on: cpu\n"
     ]
    }
   ],
   "source": [
    "# Create a tensor\n",
    "some_tensor = torch.rand(3, 4)\n",
    "# Find out details about it\n",
    "print(some_tensor)\n",
    "print(f\"Shape of tensor: {some_tensor.shape}\")\n",
    "print(f\"Datatype of tensor: {some_tensor.dtype}\")\n",
    "print(f\"Device tensor is stored on: {some_tensor.device}\") # will default to CPU"
   ]
  },
  {
   "cell_type": "markdown",
   "id": "7bf4afebf6cb12d4",
   "metadata": {},
   "source": [
    "Arthematic Operatioons\n"
   ]
  },
  {
   "cell_type": "code",
   "execution_count": 28,
   "id": "bb2beb8d2953d40e",
   "metadata": {
    "ExecuteTime": {
     "end_time": "2025-09-15T05:18:07.715505Z",
     "start_time": "2025-09-15T05:18:07.706544Z"
    }
   },
   "outputs": [
    {
     "name": "stdout",
     "output_type": "stream",
     "text": [
      "tensor([21, 31, 20, 14])\n",
      "tensor([ 1, 11,  0, -6])\n",
      "tensor([22, 42, 20,  8])\n",
      "tensor([ 5.5000, 10.5000,  5.0000,  2.0000])\n",
      "tensor([1, 1, 0, 0])\n",
      "tensor([2, 5, 2, 1])\n"
     ]
    }
   ],
   "source": [
    "Tensor=torch.tensor([11,21,10,4])\n",
    "print(Tensor+10)\n",
    "print(Tensor-10)\n",
    "print(Tensor*2)\n",
    "print(Tensor/2)\n",
    "print(Tensor%2)\n",
    "#It will Give The Quotient Value or The result will round of the to down integer\n",
    "print(Tensor//4)"
   ]
  },
  {
   "cell_type": "markdown",
   "id": "4c0efd9349112b4e",
   "metadata": {},
   "source": [
    "Matrix Multiplication"
   ]
  },
  {
   "cell_type": "code",
   "execution_count": 29,
   "id": "fe4ee15b141e3c8c",
   "metadata": {
    "ExecuteTime": {
     "end_time": "2025-09-15T05:18:07.773660Z",
     "start_time": "2025-09-15T05:18:07.761423Z"
    }
   },
   "outputs": [
    {
     "name": "stdout",
     "output_type": "stream",
     "text": [
      "tensor([[ 3, 10, 18],\n",
      "        [-6, 15, 24],\n",
      "        [10, 18, 28]])\n",
      "tensor([[12, 33, 39],\n",
      "        [17, 49, 58],\n",
      "        [17, 49, 58]])\n",
      "tensor([[12, 33, 39],\n",
      "        [17, 49, 58],\n",
      "        [17, 49, 58]])\n",
      "tensor([[12, 33, 39],\n",
      "        [17, 49, 58],\n",
      "        [17, 49, 58]])\n",
      "CPU times: user 8.77 ms, sys: 2.15 ms, total: 10.9 ms\n",
      "Wall time: 7.18 ms\n"
     ]
    }
   ],
   "source": [
    "%%time\n",
    "Matrix1=torch.tensor([[1,2,3],\n",
    "                     [2,3,4],\n",
    "                      [2,3,4]])\n",
    "Matrix2=torch.tensor([[3,5,6],\n",
    "                      [-3,5,6],\n",
    "                      [5,6,7]])\n",
    "#Multiplication with Element wise\n",
    "print(Matrix1*Matrix2)\n",
    "#Multiplication with Rows and Columns wise\n",
    "print(Matrix1.matmul(Matrix2))\n",
    "print(Matrix1@Matrix2)\n",
    "print(torch.mm(Matrix1,Matrix2))"
   ]
  },
  {
   "cell_type": "code",
   "execution_count": 30,
   "id": "3351c1766a4034da",
   "metadata": {
    "ExecuteTime": {
     "end_time": "2025-09-15T05:18:07.849480Z",
     "start_time": "2025-09-15T05:18:07.831277Z"
    }
   },
   "outputs": [
    {
     "name": "stdout",
     "output_type": "stream",
     "text": [
      "CPU times: user 4.61 ms, sys: 961 μs, total: 5.57 ms\n",
      "Wall time: 3.22 ms\n"
     ]
    },
    {
     "data": {
      "text/plain": [
       "tensor([ 9, 22, 41])"
      ]
     },
     "execution_count": 30,
     "metadata": {},
     "output_type": "execute_result"
    }
   ],
   "source": [
    "%%time\n",
    "# Matrix multiplication by hand\n",
    "# (avoid doing operations with for loops at all cost, they are computationally expensive)\n",
    "value = 0\n",
    "for i in range(len(Matrix1)):\n",
    "  value += Matrix1[i] * Matrix1[i]\n",
    "value"
   ]
  },
  {
   "cell_type": "code",
   "execution_count": 31,
   "id": "a2a7573169a9fd18",
   "metadata": {
    "ExecuteTime": {
     "end_time": "2025-09-15T05:18:07.898021Z",
     "start_time": "2025-09-15T05:18:07.892183Z"
    }
   },
   "outputs": [
    {
     "name": "stdout",
     "output_type": "stream",
     "text": [
      "tensor([[1, 4, 7],\n",
      "        [2, 5, 8],\n",
      "        [3, 6, 9]])\n"
     ]
    }
   ],
   "source": [
    "#Tranpose of the Matrix\n",
    "Matrix=torch.tensor([[1,2,3],\n",
    "                     [4,5,6],\n",
    "                     [7,8,9]])\n",
    "#Converte the Rows to columns and Columns to Rows\n",
    "print(Matrix.T)"
   ]
  },
  {
   "cell_type": "code",
   "execution_count": 32,
   "id": "55aca487316c9707",
   "metadata": {
    "ExecuteTime": {
     "end_time": "2025-09-15T05:18:07.967870Z",
     "start_time": "2025-09-15T05:18:07.948953Z"
    }
   },
   "outputs": [
    {
     "name": "stdout",
     "output_type": "stream",
     "text": [
      "Input shape: torch.Size([3, 2])\n",
      "\n",
      "Output:\n",
      "tensor([[2.2368, 1.2292, 0.4714, 0.3864, 0.1309, 0.9838],\n",
      "        [4.4919, 2.1970, 0.4469, 0.5285, 0.3401, 2.4777],\n",
      "        [6.7469, 3.1648, 0.4224, 0.6705, 0.5493, 3.9716]],\n",
      "       grad_fn=<AddmmBackward0>)\n",
      "\n",
      "Output shape: torch.Size([3, 6])\n"
     ]
    }
   ],
   "source": [
    "# Since the linear layer starts with a random weights matrix, let's make it reproducible (more on this later)\n",
    "tensor_A=torch.tensor([[1,2],\n",
    "                       [3,4],\n",
    "                       [5,6]],dtype=torch.float32)\n",
    "torch.manual_seed(42)\n",
    "# This uses matrix multiplication\n",
    "linear = torch.nn.Linear(in_features=2, # in_features = matches inner dimension of input\n",
    "                         out_features=6) # out_features = describes outer value\n",
    "x = tensor_A\n",
    "output = linear(x)\n",
    "print(f\"Input shape: {x.shape}\\n\")\n",
    "print(f\"Output:\\n{output}\\n\\nOutput shape: {output.shape}\")"
   ]
  },
  {
   "cell_type": "code",
   "execution_count": 33,
   "id": "d14013cf2ea53936",
   "metadata": {
    "ExecuteTime": {
     "end_time": "2025-09-15T05:18:08.014662Z",
     "start_time": "2025-09-15T05:18:08.007450Z"
    }
   },
   "outputs": [
    {
     "name": "stdout",
     "output_type": "stream",
     "text": [
      "tensor([[0., 0.],\n",
      "        [0., 0.],\n",
      "        [0., 0.]]) torch.float32\n"
     ]
    }
   ],
   "source": [
    "Zeros=torch.zeros(size=(3,2))\n",
    "print(Zeros,Zeros.dtype)"
   ]
  },
  {
   "cell_type": "code",
   "execution_count": 51,
   "id": "e5bfc88891d0b94d",
   "metadata": {
    "ExecuteTime": {
     "end_time": "2025-09-15T05:18:08.090243Z",
     "start_time": "2025-09-15T05:18:08.081103Z"
    }
   },
   "outputs": [
    {
     "name": "stdout",
     "output_type": "stream",
     "text": [
      "The Matrix After Reshaping it tensor([[0, 1, 2],\n",
      "        [3, 4, 5],\n",
      "        [6, 7, 8]])\n",
      "The Tranpose of the Matrix is  tensor([[0, 3, 6],\n",
      "        [1, 4, 7],\n",
      "        [2, 5, 8]])\n",
      "tensor([[ True, False, False],\n",
      "        [False,  True, False],\n",
      "        [False, False,  True]])\n"
     ]
    },
    {
     "data": {
      "text/plain": [
       "tensor([[[ 0,  1,  2],\n",
       "         [ 3,  4,  5],\n",
       "         [ 6,  7,  8],\n",
       "         [ 9, 10, 11]],\n",
       "\n",
       "        [[12, 13, 14],\n",
       "         [15, 16, 17],\n",
       "         [18, 19, 20],\n",
       "         [21, 22, 23]],\n",
       "\n",
       "        [[24, 25, 26],\n",
       "         [27, 28, 29],\n",
       "         [30, 31, 32],\n",
       "         [33, 34, 35]],\n",
       "\n",
       "        [[36, 37, 38],\n",
       "         [39, 40, 41],\n",
       "         [42, 43, 44],\n",
       "         [45, 46, 47]]])"
      ]
     },
     "execution_count": 51,
     "metadata": {},
     "output_type": "execute_result"
    }
   ],
   "source": [
    "A=torch.arange(9).reshape(3,3)\n",
    "print(\"The Matrix After Reshaping it\",A)\n",
    "#Tranpose of the Matrix..:Rows will change to columns and columns will change to Rows\n",
    "print(\"The Tranpose of the Matrix is \",A.T)\n",
    "#chek=cking the Whether the Given matrix and Trapose of the MAtrix is Same or Not\n",
    "print(A==A.T)\n",
    "#This is Will Truee  if the Values are same even After tranposing the Matrix\n",
    "torch.arange(48).reshape(4,4,3)"
   ]
  },
  {
   "cell_type": "markdown",
   "id": "70d63682-66ed-43b6-88f4-985c727b8d10",
   "metadata": {},
   "source": [
    "Indexing"
   ]
  },
  {
   "cell_type": "code",
   "execution_count": 75,
   "id": "af1b5b4a-d399-4bf8-8cc9-c9fbd9193da1",
   "metadata": {},
   "outputs": [
    {
     "name": "stdout",
     "output_type": "stream",
     "text": [
      "tensor([[ 1,  2,  3,  4],\n",
      "        [ 5,  6,  7,  8],\n",
      "        [ 9, 10, 11, 12]])\n",
      "tensor([5, 6, 7, 8])\n",
      "tensor([ 9, 10, 11, 12])\n",
      "tensor([[ 1,  3],\n",
      "        [ 5,  7],\n",
      "        [ 9, 11]])\n",
      "tensor([ 4,  8, 12])\n",
      "tensor([[ 1,  2,  3],\n",
      "        [ 5,  6,  7],\n",
      "        [ 9, 10, 11]])\n"
     ]
    }
   ],
   "source": [
    "A=torch.tensor([[1,2,3,4],\n",
    "                [5,6,7,8],\n",
    "                [9,10,11,12]])\n",
    "print(A)\n",
    "print(A[1])\n",
    "print(A[-1])\n",
    "print(A[:,0:3:2])\n",
    "print(A[:,-1])\n",
    "print(A[:,:-1])"
   ]
  },
  {
   "cell_type": "markdown",
   "id": "800d748f-1280-479e-a7d4-f26267c7947f",
   "metadata": {},
   "source": [
    "Modifing the Elements"
   ]
  },
  {
   "cell_type": "code",
   "execution_count": 85,
   "id": "3664c328-3bed-4616-a51a-61f9a3249575",
   "metadata": {},
   "outputs": [
    {
     "data": {
      "text/plain": [
       "tensor([[10,  2,  3,  4],\n",
       "        [ 5,  6,  7, 20],\n",
       "        [ 9, 10, 11, 12]])"
      ]
     },
     "execution_count": 85,
     "metadata": {},
     "output_type": "execute_result"
    }
   ],
   "source": [
    "A[0,0]=10\n",
    "A\n",
    "A[1,3]=20\n",
    "A"
   ]
  },
  {
   "cell_type": "code",
   "execution_count": 86,
   "id": "2f6a4369-9d99-4048-a0d9-091272240687",
   "metadata": {},
   "outputs": [
    {
     "data": {
      "text/plain": [
       "tensor([[2.2026e+04, 7.3891e+00, 2.0086e+01, 5.4598e+01],\n",
       "        [1.4841e+02, 4.0343e+02, 1.0966e+03, 4.8517e+08],\n",
       "        [8.1031e+03, 2.2026e+04, 5.9874e+04, 1.6275e+05]])"
      ]
     },
     "execution_count": 86,
     "metadata": {},
     "output_type": "execute_result"
    }
   ],
   "source": [
    "#Exponential e power A\n",
    "torch.exp(A)"
   ]
  },
  {
   "cell_type": "markdown",
   "id": "79909fa4-687a-4909-8e96-a44facbeffcd",
   "metadata": {},
   "source": [
    "Adding Two Tensors"
   ]
  },
  {
   "cell_type": "code",
   "execution_count": 118,
   "id": "a226ba36-469a-48d0-88a0-1f38eec65b6a",
   "metadata": {},
   "outputs": [
    {
     "name": "stdout",
     "output_type": "stream",
     "text": [
      "tensor([[ 1.8849,  0.3730,  0.1885],\n",
      "        [-0.1437, -1.0111, -1.8760]])\n",
      "tensor([[-0.0808,  0.7883, -1.1360],\n",
      "        [-2.4815,  0.9542, -0.2478]])\n"
     ]
    },
    {
     "data": {
      "text/plain": [
       "tensor([[ 1.8849,  0.3730,  0.1885],\n",
       "        [-0.1437, -1.0111, -1.8760],\n",
       "        [-0.0808,  0.7883, -1.1360],\n",
       "        [-2.4815,  0.9542, -0.2478]])"
      ]
     },
     "execution_count": 118,
     "metadata": {},
     "output_type": "execute_result"
    }
   ],
   "source": [
    "# X=torch.arange(12,dtype=torch.float32).reshape((3,4))\n",
    "# print(X)\n",
    "# Y=torch.tensor([[2,3,4,5],\n",
    "#                 [6,7,8,9],\n",
    "#                 [1,2,3,4]],dtype=torch.float32)\n",
    "# print(Y)\n",
    "# print(torch.cat(X,Y),dim=0)\n",
    "X=torch.randn(2,3)\n",
    "print(X)\n",
    "Y=torch.randn(2,3)\n",
    "print(Y)\n",
    "torch.cat((X,Y),0)"
   ]
  }
 ],
 "metadata": {
  "kernelspec": {
   "display_name": "Python 3.13 (ipykernel)",
   "language": "python",
   "name": "python3.13"
  },
  "language_info": {
   "codemirror_mode": {
    "name": "ipython",
    "version": 3
   },
   "file_extension": ".py",
   "mimetype": "text/x-python",
   "name": "python",
   "nbconvert_exporter": "python",
   "pygments_lexer": "ipython3",
   "version": "3.13.7"
  }
 },
 "nbformat": 4,
 "nbformat_minor": 5
}
