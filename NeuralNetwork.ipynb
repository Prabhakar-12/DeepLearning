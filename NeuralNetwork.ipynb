{
 "cells": [
  {
   "cell_type": "code",
   "id": "e28831bc-1566-40ac-b5cd-5ca1c7efd55b",
   "metadata": {
    "jupyter": {
     "is_executing": true
    }
   },
   "source": [
    "import sklearn\n",
    "print(sklearn.__version__)\n",
    "import numpy as np\n",
    "print(np.__version__)\n",
    "import pandas as pd\n",
    "print(pd.__version__)\n",
    "import matplotlib\n",
    "print(matplotlib.__version__)\n",
    "import seaborn\n",
    "print(seaborn.__version__)\n",
    "import torch\n",
    "print(torch.__version__)"
   ],
   "outputs": [],
   "execution_count": null
  },
  {
   "cell_type": "code",
   "execution_count": null,
   "id": "c71feac2-c312-4f84-8d92-d71ea1428d5a",
   "metadata": {},
   "outputs": [],
   "source": []
  }
 ],
 "metadata": {
  "kernelspec": {
   "display_name": "Python 3.13 (ipykernel)",
   "language": "python",
   "name": "python3.13"
  },
  "language_info": {
   "codemirror_mode": {
    "name": "ipython",
    "version": 3
   },
   "file_extension": ".py",
   "mimetype": "text/x-python",
   "name": "python",
   "nbconvert_exporter": "python",
   "pygments_lexer": "ipython3",
   "version": "3.13.7"
  }
 },
 "nbformat": 4,
 "nbformat_minor": 5
}
