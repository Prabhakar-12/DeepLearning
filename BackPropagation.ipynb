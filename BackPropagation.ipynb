{
 "cells": [
  {
   "cell_type": "code",
   "execution_count": 15,
   "id": "initial_id",
   "metadata": {},
   "outputs": [],
   "source": [
    "import math\n",
    "import numpy as np\n",
    "import matplotlib.pyplot as plt\n",
    "%matplotlib inline\n",
    " "
   ]
  },
  {
   "cell_type": "code",
   "execution_count": 17,
   "id": "d9ce802c-bf41-49aa-a8c2-5f28d1d1a438",
   "metadata": {},
   "outputs": [
    {
     "data": {
      "text/plain": [
       "20.0"
      ]
     },
     "execution_count": 17,
     "metadata": {},
     "output_type": "execute_result"
    }
   ],
   "source": [
    "def f(x):\n",
    "    return 3*x**2-4*x+5\n",
    "f(3.0)    \n",
    "    "
   ]
  },
  {
   "cell_type": "code",
   "execution_count": 25,
   "id": "1705f687-f044-4ca6-9e54-631b72c89443",
   "metadata": {},
   "outputs": [
    {
     "data": {
      "image/png": "[encoded data removed]",
      "text/plain": [
       "<Figure size 640x480 with 1 Axes>"
      ]
     },
     "metadata": {},
     "output_type": "display_data"
    }
   ],
   "source": [
    "xs=np.arange(-5,5,0.25)\n",
    "ys=f(xs)\n",
    "plt.plot(xs,ys,color='blue')\n",
    "plt.show()"
   ]
  },
  {
   "cell_type": "code",
   "execution_count": 4,
   "id": "680383da-1501-42ba-b3e3-97d430a2e526",
   "metadata": {},
   "outputs": [
    {
     "data": {
      "text/plain": [
       "2.999378523327323e-06"
      ]
     },
     "execution_count": 4,
     "metadata": {},
     "output_type": "execute_result"
    }
   ],
   "source": [
    "h=0.000001\n",
    "x=2/3\n",
    "(f(x+h)-f(x))/h"
   ]
  },
  {
   "cell_type": "code",
   "execution_count": 8,
   "id": "fb8159eb-c891-4015-b48f-b28bd4916ad5",
   "metadata": {},
   "outputs": [
    {
     "name": "stdout",
     "output_type": "stream",
     "text": [
      "4.0\n"
     ]
    }
   ],
   "source": [
    "#lets get More complex\n",
    "a=2.0\n",
    "b=-3.0\n",
    "c=10.0\n",
    "d=a*b+c\n",
    "print(d)\n"
   ]
  },
  {
   "cell_type": "code",
   "execution_count": 10,
   "id": "e2e29c1d-6aa5-44c4-b815-e0c155dba64e",
   "metadata": {},
   "outputs": [
    {
     "name": "stdout",
     "output_type": "stream",
     "text": [
      "d1 is  4.0\n",
      "d2 is  4.0001\n",
      "slope is  0.9999999999976694\n"
     ]
    }
   ],
   "source": [
    "h=0.0001\n",
    "\n",
    "#inputs\n",
    "a=2.0\n",
    "b=-3.0\n",
    "c=10.0\n",
    "\n",
    "d1=a*b+c\n",
    "c+=h\n",
    "# print(c)\n",
    "d2=a*b+c\n",
    "\n",
    "print('d1 is ',d1)\n",
    "print('d2 is ',d2)\n",
    "print('slope is ',(d2-d1)/h)\n"
   ]
  },
  {
   "cell_type": "code",
   "execution_count": 5,
   "id": "5ec6626d-b39e-45ca-9d5f-ea30718311f5",
   "metadata": {},
   "outputs": [
    {
     "data": {
      "text/plain": [
       "Value (data=4.0)"
      ]
     },
     "execution_count": 5,
     "metadata": {},
     "output_type": "execute_result"
    }
   ],
   "source": [
    "class Value:\n",
    "    def __init__(self,data,_children=(),_op=''):\n",
    "        self.data=data\n",
    "        self._prev=set(_children)\n",
    "        self._op=_op\n",
    "    def __repr__(self):\n",
    "        return f\"Value (data={self.data})\"\n",
    "    def __add__(self,other):\n",
    "        out=Value(self.data+other.data,(self,other),'+')\n",
    "        return out\n",
    "    def __mul__(self,other):\n",
    "        out=Value(self.data*other.data,(self,other),'*')\n",
    "        return out\n",
    "\n",
    "a=Value(2.0)\n",
    "b=Value(-3.0)\n",
    "c=Value(10.0)\n",
    "d=a*b+c\n",
    "d\n",
    "# a.__add__(b)\n",
    "# a.__mul__(b)"
   ]
  },
  {
   "cell_type": "code",
   "execution_count": 6,
   "id": "abc12dbf-ec55-449b-b506-91c60112088b",
   "metadata": {},
   "outputs": [
    {
     "data": {
      "text/plain": [
       "{Value (data=-6.0), Value (data=10.0)}"
      ]
     },
     "execution_count": 6,
     "metadata": {},
     "output_type": "execute_result"
    }
   ],
   "source": [
    "d._prev"
   ]
  },
  {
   "cell_type": "code",
   "execution_count": 7,
   "id": "4f68d5ae-d822-476d-809d-845a84d61f75",
   "metadata": {},
   "outputs": [
    {
     "data": {
      "text/plain": [
       "'+'"
      ]
     },
     "execution_count": 7,
     "metadata": {},
     "output_type": "execute_result"
    }
   ],
   "source": [
    "d._op"
   ]
  },
  {
   "cell_type": "code",
   "execution_count": 22,
   "id": "f88d6b41-ff68-4f01-b2cc-bf99529c4d48",
   "metadata": {},
   "outputs": [
    {
     "name": "stdout",
     "output_type": "stream",
     "text": [
      "The Value of A is  2\n",
      "The Value of B is  3\n",
      "The Addition of b and c is  51\n",
      "The Multiplication of b and c is  98\n"
     ]
    }
   ],
   "source": [
    "# class Sample:\n",
    "#     def __init__(self,a):\n",
    "#         self.a=a\n",
    "#     def Output(self):\n",
    "#         print(\"The Value of a is \",self.a)\n",
    "# a=Sample(4)\n",
    "# a.Output()\n",
    "class Sample:\n",
    "    def __init__(self,a,b):\n",
    "        self.a=a\n",
    "        self.b=b\n",
    "    def Output(self):\n",
    "        print(\"The Value of A is \",self.a)\n",
    "        print(\"The Value of B is \",self.b)\n",
    "    def __add__(self):\n",
    "        return self.b+self.c\n",
    "    def __mul__(self):\n",
    "        return self.b*self.c\n",
    "a=Sample(2,3)\n",
    "b=2\n",
    "c=49\n",
    "a.Output()\n",
    "print(\"The Addition of b and c is \",b.__add__(c))\n",
    "print(\"The Multiplication of b and c is \",b.__mul__(c))"
   ]
  },
  {
   "cell_type": "code",
   "execution_count": 2,
   "id": "79e82e73-e3c1-488d-82ea-8972112c973c",
   "metadata": {},
   "outputs": [
    {
     "name": "stdout",
     "output_type": "stream",
     "text": [
      "The Hidden LAyer one Output is  [1 0]\n"
     ]
    }
   ],
   "source": [
    "import numpy as np\n",
    "class Neuron:\n",
    "    def __init__(self,weights,bais):\n",
    "        self.weights=weights\n",
    "        self.bais=bais\n",
    "    def Forward(self,inputs):\n",
    "        weighted_sum=0\n",
    "        for i in range(len(self.weights)):\n",
    "            weighted_sum+=self.weights[i]*inputs[i]\n",
    "        Output=weighted_sum+self.bais\n",
    "        if Output>=0:\n",
    "            return 1\n",
    "        else:\n",
    "            return 0\n",
    "        \n",
    "##Building Hidden Layers\n",
    "Hidden_Layer1_Neuron1=Neuron(weights=[2,3],bais=4)\n",
    "Hidden_Layer1_Neuron2=Neuron(weights=[4,-5],bais=-3)\n",
    "inputs=[4,5]\n",
    "Neuron1_Output=Hidden_Layer1_Neuron1.Forward(inputs)\n",
    "Neuron2_Output=Hidden_Layer1_Neuron2.Forward(inputs)\n",
    "Hidden_Layer1_Output=np.array([Neuron1_Output,Neuron2_Output])\n",
    "\n",
    "print(\"The Hidden LAyer one Output is \",Hidden_Layer1_Output)\n",
    "                "
   ]
  },
  {
   "cell_type": "markdown",
   "id": "c2b53d6d-24f7-4acc-a11c-04b5b9870789",
   "metadata": {},
   "source": [
    "Tensors"
   ]
  },
  {
   "cell_type": "code",
   "execution_count": 31,
   "id": "46841903-5b32-4a6a-b287-c11de3b095a5",
   "metadata": {},
   "outputs": [
    {
     "name": "stdout",
     "output_type": "stream",
     "text": [
      "2.8.0+cu126\n"
     ]
    }
   ],
   "source": [
    "import torch\n",
    "print(torch.__version__)"
   ]
  },
  {
   "cell_type": "code",
   "execution_count": 32,
   "id": "e9e4ef45-3215-406f-8019-a90ffa69fa16",
   "metadata": {},
   "outputs": [
    {
     "name": "stdout",
     "output_type": "stream",
     "text": [
      "tensor(4)\n",
      "0\n",
      "4\n"
     ]
    }
   ],
   "source": [
    "#Creating the Tensors\n",
    "scalar=torch.tensor(4)\n",
    "print(scalar)\n",
    "#Getting the Dimensions of the Data\n",
    "print(scalar.ndim)\n",
    "print(scalar.item())"
   ]
  },
  {
   "cell_type": "code",
   "execution_count": 35,
   "id": "dc94aa6d-faaf-4def-bffd-6fb25cb39540",
   "metadata": {},
   "outputs": [
    {
     "name": "stdout",
     "output_type": "stream",
     "text": [
      "tensor([7, 7])\n",
      "1\n",
      "torch.Size([2])\n"
     ]
    }
   ],
   "source": [
    "#Vectors\n",
    "vectors=torch.tensor([7,7])\n",
    "print(vectors)\n",
    "print(vectors.ndim)\n",
    "print(vectors.shape)"
   ]
  },
  {
   "cell_type": "code",
   "execution_count": 15,
   "id": "1007cab6-cb4f-4d97-ae65-51acecdf8082",
   "metadata": {},
   "outputs": [
    {
     "name": "stdout",
     "output_type": "stream",
     "text": [
      "tensor([[1, 2, 3],\n",
      "        [4, 5, 6],\n",
      "        [7, 8, 9]], dtype=torch.int32)\n",
      "torch.Size([3, 3])\n",
      "2\n",
      "torch.int32\n",
      "4\n",
      "tensor(45)\n",
      "tensor([12, 15, 18])\n",
      "tensor([ 6, 15, 24])\n",
      "<built-in method size of Tensor object at 0x7f6a81be0b90>\n",
      "tensor([[11, 12, 13],\n",
      "        [14, 15, 16],\n",
      "        [17, 18, 19]], dtype=torch.int32)\n",
      "tensor([[ 2,  4,  6],\n",
      "        [ 8, 10, 12],\n",
      "        [14, 16, 18]], dtype=torch.int32)\n",
      "tensor(1, dtype=torch.int32)\n",
      "tensor(9, dtype=torch.int32)\n"
     ]
    }
   ],
   "source": [
    "#Matrix\n",
    "Matrix=torch.tensor([[1,2,3],\n",
    "                     [4,5,6],\n",
    "                     [7,8,9]],dtype=torch.int32)\n",
    "print(Matrix)\n",
    "#Getting the Shape of the Matrix\n",
    "print(Matrix.shape)\n",
    "print(Matrix.ndim)\n",
    "print(Matrix.dtype)\n",
    "print(Matrix.itemsize)\n",
    "print(torch.sum(Matrix))\n",
    "print(torch.sum(Matrix,axis=0))\n",
    "print(torch.sum(Matrix,axis=1))\n",
    "print(Matrix.size)\n",
    "print(torch.add(Matrix,10))\n",
    "print(torch.mul(Matrix,2))"
   ]
  },
  {
   "cell_type": "markdown",
   "id": "0338fd1e-d7b1-4a36-8723-d52f2dba4297",
   "metadata": {},
   "source": [
    "Tensors Aggregations Function "
   ]
  },
  {
   "cell_type": "code",
   "execution_count": 25,
   "id": "08679d50-a4cc-4d1a-bab3-659d9a016891",
   "metadata": {},
   "outputs": [
    {
     "name": "stdout",
     "output_type": "stream",
     "text": [
      "tensor([ 0., 10., 20., 30., 40., 50., 60., 70., 80., 90.])\n",
      "tensor(0.)\n",
      "tensor(0.)\n",
      "tensor(90.)\n",
      "tensor(90.)\n"
     ]
    },
    {
     "ename": "TypeError",
     "evalue": "mean() received an invalid combination of arguments - got (Tensor, type), but expected one of:\n * (Tensor input, *, torch.dtype dtype = None, Tensor out = None)\n * (Tensor input, tuple of ints dim, bool keepdim = False, *, torch.dtype dtype = None, Tensor out = None)\n * (Tensor input, tuple of names dim, bool keepdim = False, *, torch.dtype dtype = None, Tensor out = None)\n",
     "output_type": "error",
     "traceback": [
      "\u001b[31m---------------------------------------------------------------------------\u001b[39m",
      "\u001b[31mTypeError\u001b[39m                                 Traceback (most recent call last)",
      "\u001b[36mCell\u001b[39m\u001b[36m \u001b[39m\u001b[32mIn[25]\u001b[39m\u001b[32m, line 11\u001b[39m\n\u001b[32m      9\u001b[39m \u001b[38;5;28mprint\u001b[39m(x.max())\n\u001b[32m     10\u001b[39m \u001b[38;5;66;03m#Return the Mean of the Elements\u001b[39;00m\n\u001b[32m---> \u001b[39m\u001b[32m11\u001b[39m \u001b[38;5;28mprint\u001b[39m(torch.mean(x,\u001b[38;5;28mtype\u001b[39m(torch.float32)))\n",
      "\u001b[31mTypeError\u001b[39m: mean() received an invalid combination of arguments - got (Tensor, type), but expected one of:\n * (Tensor input, *, torch.dtype dtype = None, Tensor out = None)\n * (Tensor input, tuple of ints dim, bool keepdim = False, *, torch.dtype dtype = None, Tensor out = None)\n * (Tensor input, tuple of names dim, bool keepdim = False, *, torch.dtype dtype = None, Tensor out = None)\n"
     ]
    }
   ],
   "source": [
    "#Create A Tensor\n",
    "x=torch.arange(0,100,10,dtype=torch.float32)\n",
    "print(x)\n",
    "#printing them minimum Elements of the Array\n",
    "print(torch.min(x))\n",
    "print(x.min())\n",
    "#printing the Maximum Elements of the Array\n",
    "print(torch.max(x))\n",
    "print(x.max())\n",
    "#Return the Mean of the Elements\n",
    "print(torch.mean(x,type(torch.float32)))"
   ]
  },
  {
   "cell_type": "code",
   "execution_count": 48,
   "id": "231e342f-fab4-4e4c-845c-bfad64191add",
   "metadata": {},
   "outputs": [
    {
     "name": "stdout",
     "output_type": "stream",
     "text": [
      "tensor([[0.9302, 0.9025, 0.5483],\n",
      "        [0.4674, 0.6646, 0.2671],\n",
      "        [0.4264, 0.4561, 0.8299]])\n",
      "tensor([[0.9302, 0.9025, 0.5483],\n",
      "        [0.4674, 0.6646, 0.2671],\n",
      "        [0.4264, 0.4561, 0.8299]])\n"
     ]
    }
   ],
   "source": [
    "Rand_Tensor=torch.rand(3,3)\n",
    "print(Rand_Tensor)\n",
    "print(Rand_Tensor)"
   ]
  },
  {
   "cell_type": "code",
   "execution_count": 10,
   "id": "b8d9c918-aa86-4c26-b27d-6c151014572f",
   "metadata": {},
   "outputs": [
    {
     "name": "stdout",
     "output_type": "stream",
     "text": [
      "tensor([[0.1247, 0.3388],\n",
      "        [0.1866, 0.9372],\n",
      "        [0.4204, 0.7330]])\n"
     ]
    }
   ],
   "source": [
    "import torch\n",
    "Rand_Tensor=torch.rand(3,2)\n",
    "print(Rand_Tensor)"
   ]
  },
  {
   "cell_type": "code",
   "execution_count": 13,
   "id": "336344f1-1d31-4d97-9340-490add15e671",
   "metadata": {},
   "outputs": [
    {
     "name": "stdout",
     "output_type": "stream",
     "text": [
      "torch.Size([224, 224, 3]) 3\n"
     ]
    }
   ],
   "source": [
    "Random_Image_Size_Tensor=torch.rand(size=(224,224,3))\n",
    "print(Random_Image_Size_Tensor.shape,Random_Image_Size_Tensor.ndim)"
   ]
  }
 ],
 "metadata": {
  "kernelspec": {
   "display_name": "Python 3 (ipykernel)",
   "language": "python",
   "name": "python3"
  },
  "language_info": {
   "codemirror_mode": {
    "name": "ipython",
    "version": 3
   },
   "file_extension": ".py",
   "mimetype": "text/x-python",
   "name": "python",
   "nbconvert_exporter": "python",
   "pygments_lexer": "ipython3",
   "version": "3.13.5"
  }
 },
 "nbformat": 4,
 "nbformat_minor": 5
}
